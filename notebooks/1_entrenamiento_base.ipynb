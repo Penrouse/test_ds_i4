{
 "cells": [
  {
   "cell_type": "markdown",
   "id": "c2c5e3ea",
   "metadata": {},
   "source": [
    "# Construcción de modelo Predictivo\n",
    "\n",
    "Implementar el modelo XGBoost para priorizar contactos puede convertir una campaña deficitaria en altamente rentable, con una tasa de éxito superior al 70% y una reducción drástica en costos."
   ]
  },
  {
   "cell_type": "code",
   "execution_count": 2,
   "id": "30a954b6",
   "metadata": {},
   "outputs": [
    {
     "name": "stderr",
     "output_type": "stream",
     "text": [
      "c:\\Users\\Ferur\\.conda\\envs\\env_global_test\\Lib\\site-packages\\xgboost\\training.py:183: UserWarning: [19:14:46] WARNING: C:\\actions-runner\\_work\\xgboost\\xgboost\\src\\learner.cc:738: \n",
      "Parameters: { \"use_label_encoder\" } are not used.\n",
      "\n",
      "  bst.update(dtrain, iteration=i, fobj=obj)\n"
     ]
    },
    {
     "data": {
      "application/vnd.microsoft.datawrangler.viewer.v0+json": {
       "columns": [
        {
         "name": "index",
         "rawType": "int64",
         "type": "integer"
        },
        {
         "name": "Modelo",
         "rawType": "object",
         "type": "string"
        },
        {
         "name": "AUC ROC",
         "rawType": "float64",
         "type": "float"
        },
        {
         "name": "Precision (Clase 1)",
         "rawType": "float64",
         "type": "float"
        },
        {
         "name": "Recall (Clase 1)",
         "rawType": "float64",
         "type": "float"
        },
        {
         "name": "F1-score (Clase 1)",
         "rawType": "float64",
         "type": "float"
        }
       ],
       "conversionMethod": "pd.DataFrame",
       "ref": "301a903e-0275-4a2a-bd33-8de3a4480a48",
       "rows": [
        [
         "0",
         "Random Forest",
         "0.8765620715321033",
         "0.8214285714285714",
         "0.34328358208955223",
         "0.4842105263157895"
        ],
        [
         "1",
         "XGBoost",
         "0.8958945430328671",
         "0.7209302325581395",
         "0.4626865671641791",
         "0.5636363636363636"
        ]
       ],
       "shape": {
        "columns": 5,
        "rows": 2
       }
      },
      "text/html": [
       "<div>\n",
       "<style scoped>\n",
       "    .dataframe tbody tr th:only-of-type {\n",
       "        vertical-align: middle;\n",
       "    }\n",
       "\n",
       "    .dataframe tbody tr th {\n",
       "        vertical-align: top;\n",
       "    }\n",
       "\n",
       "    .dataframe thead th {\n",
       "        text-align: right;\n",
       "    }\n",
       "</style>\n",
       "<table border=\"1\" class=\"dataframe\">\n",
       "  <thead>\n",
       "    <tr style=\"text-align: right;\">\n",
       "      <th></th>\n",
       "      <th>Modelo</th>\n",
       "      <th>AUC ROC</th>\n",
       "      <th>Precision (Clase 1)</th>\n",
       "      <th>Recall (Clase 1)</th>\n",
       "      <th>F1-score (Clase 1)</th>\n",
       "    </tr>\n",
       "  </thead>\n",
       "  <tbody>\n",
       "    <tr>\n",
       "      <th>0</th>\n",
       "      <td>Random Forest</td>\n",
       "      <td>0.876562</td>\n",
       "      <td>0.821429</td>\n",
       "      <td>0.343284</td>\n",
       "      <td>0.484211</td>\n",
       "    </tr>\n",
       "    <tr>\n",
       "      <th>1</th>\n",
       "      <td>XGBoost</td>\n",
       "      <td>0.895895</td>\n",
       "      <td>0.720930</td>\n",
       "      <td>0.462687</td>\n",
       "      <td>0.563636</td>\n",
       "    </tr>\n",
       "  </tbody>\n",
       "</table>\n",
       "</div>"
      ],
      "text/plain": [
       "          Modelo   AUC ROC  Precision (Clase 1)  Recall (Clase 1)  \\\n",
       "0  Random Forest  0.876562             0.821429          0.343284   \n",
       "1        XGBoost  0.895895             0.720930          0.462687   \n",
       "\n",
       "   F1-score (Clase 1)  \n",
       "0            0.484211  \n",
       "1            0.563636  "
      ]
     },
     "execution_count": 2,
     "metadata": {},
     "output_type": "execute_result"
    }
   ],
   "source": [
    "# Reimportar y preparar datos para modelado\n",
    "import pandas as pd\n",
    "import numpy as np\n",
    "from sklearn.model_selection import train_test_split\n",
    "from sklearn.preprocessing import OneHotEncoder\n",
    "from sklearn.ensemble import RandomForestClassifier\n",
    "from xgboost import XGBClassifier\n",
    "from sklearn.metrics import classification_report, roc_auc_score, confusion_matrix\n",
    "\n",
    "# Cargar datos\n",
    "df = pd.read_csv(\"../data/raw/data_caso_ds (1).csv\")\n",
    "df = df.set_index('ID')\n",
    "df['Income'] = df['Income'].fillna(df['Income'].median())\n",
    "df[\"Dt_Customer\"] = pd.to_datetime(df[\"Dt_Customer\"])\n",
    "df[\"Age\"] = 2025 - df[\"Year_Birth\"]\n",
    "df[\"Customer_Tenure\"] = (pd.to_datetime(\"2025-01-01\") - df[\"Dt_Customer\"]).dt.days // 365\n",
    "df.drop(columns=[\"Z_CostContact\", \"Z_Revenue\", \"Dt_Customer\", \"Year_Birth\"], inplace=True)\n",
    "\n",
    "# Separar variables categóricas\n",
    "categorical_vars = ['Education', 'Marital_Status']\n",
    "numerical_vars = [col for col in df.columns if col not in categorical_vars + ['Response']]\n",
    "\n",
    "# One-hot encoding para categóricas\n",
    "encoder = OneHotEncoder(drop='first', sparse_output=False)\n",
    "X_cat = encoder.fit_transform(df[categorical_vars])\n",
    "cat_columns = encoder.get_feature_names_out(categorical_vars)\n",
    "\n",
    "# Concatenar todas las features\n",
    "X_full = pd.concat([\n",
    "    pd.DataFrame(df[numerical_vars].reset_index(drop=True)),\n",
    "    pd.DataFrame(X_cat, columns=cat_columns)\n",
    "], axis=1)\n",
    "y = df['Response']\n",
    "\n",
    "# División train/test\n",
    "X_train, X_test, y_train, y_test = train_test_split(X_full, y, test_size=0.2, stratify=y, random_state=42)\n",
    "\n",
    "# Entrenar modelos\n",
    "rf_model = RandomForestClassifier(random_state=42)\n",
    "xgb_model = XGBClassifier(random_state=42, use_label_encoder=False, eval_metric='logloss')\n",
    "\n",
    "rf_model.fit(X_train, y_train)\n",
    "xgb_model.fit(X_train, y_train)\n",
    "\n",
    "# Predicciones\n",
    "rf_preds = rf_model.predict(X_test)\n",
    "xgb_preds = xgb_model.predict(X_test)\n",
    "rf_probs = rf_model.predict_proba(X_test)[:, 1]\n",
    "xgb_probs = xgb_model.predict_proba(X_test)[:, 1]\n",
    "\n",
    "# Evaluación\n",
    "rf_auc = roc_auc_score(y_test, rf_probs)\n",
    "xgb_auc = roc_auc_score(y_test, xgb_probs)\n",
    "rf_report = classification_report(y_test, rf_preds, output_dict=True)\n",
    "xgb_report = classification_report(y_test, xgb_preds, output_dict=True)\n",
    "\n",
    "# Resultados finales\n",
    "results_df = pd.DataFrame({\n",
    "    \"Modelo\": [\"Random Forest\", \"XGBoost\"],\n",
    "    \"AUC ROC\": [rf_auc, xgb_auc],\n",
    "    \"Precision (Clase 1)\": [rf_report['1']['precision'], xgb_report['1']['precision']],\n",
    "    \"Recall (Clase 1)\": [rf_report['1']['recall'], xgb_report['1']['recall']],\n",
    "    \"F1-score (Clase 1)\": [rf_report['1']['f1-score'], xgb_report['1']['f1-score']]\n",
    "})\n",
    "results_df\n"
   ]
  },
  {
   "cell_type": "markdown",
   "id": "51a9fad2",
   "metadata": {},
   "source": [
    "# Simulación ROI"
   ]
  },
  {
   "cell_type": "code",
   "execution_count": 3,
   "id": "d680dea0",
   "metadata": {},
   "outputs": [
    {
     "name": "stdout",
     "output_type": "stream",
     "text": [
      "Clientes contactados: 43\n",
      "Clientes que compraron (TP): 31\n",
      "Clientes contactados sin comprar (FP): 12\n",
      "Ingreso total estimado: 1518.38 MU\n",
      "Costo total campaña: 129.00 MU\n",
      "ROI estimado: 1389.38 MU\n"
     ]
    }
   ],
   "source": [
    "# Predicciones de probabilidad (ya entrenado XGBoost como xgb_model)\n",
    "y_probs = xgb_model.predict_proba(X_test)[:, 1]\n",
    "df['Score'] = xgb_model.predict_proba(X_full)[:, 1]\n",
    "\n",
    "# Elegimos un umbral de probabilidad (por ejemplo, 0.5)\n",
    "umbral = 0.5\n",
    "y_pred = (y_probs >= umbral).astype(int)\n",
    "\n",
    "# Simulación\n",
    "costo_contacto = 3\n",
    "ingreso_venta = 48.98\n",
    "\n",
    "# Calculamos ganancias y costos\n",
    "TP = ((y_pred == 1) & (y_test == 1)).sum()  # verdaderos positivos (ventas acertadas)\n",
    "FP = ((y_pred == 1) & (y_test == 0)).sum()  # falsos positivos (contacto sin venta)\n",
    "Total_Contactados = TP + FP\n",
    "\n",
    "ingreso_total = TP * ingreso_venta\n",
    "costo_total = Total_Contactados * costo_contacto\n",
    "roi = ingreso_total - costo_total\n",
    "\n",
    "# Mostrar resultados\n",
    "print(f\"Clientes contactados: {Total_Contactados}\")\n",
    "print(f\"Clientes que compraron (TP): {TP}\")\n",
    "print(f\"Clientes contactados sin comprar (FP): {FP}\")\n",
    "print(f\"Ingreso total estimado: {ingreso_total:.2f} MU\")\n",
    "print(f\"Costo total campaña: {costo_total:.2f} MU\")\n",
    "print(f\"ROI estimado: {roi:.2f} MU\")"
   ]
  },
  {
   "cell_type": "markdown",
   "id": "bb484323",
   "metadata": {},
   "source": [
    "📊 Tomando el umbral 0.5:\n",
    "\n",
    "| Métrica                 | Valor            |\n",
    "| ----------------------- | ---------------- |\n",
    "| Clientes contactados    | 43               |\n",
    "| Clientes que compraron  | 31               |\n",
    "| Precisión estimada      | 72.1%            |\n",
    "| Ingreso total estimado  | **1,518.38 MU**  |\n",
    "| Costo total de contacto | 129.00 MU        |\n",
    "| ✅ **ROI estimado**      | **+1,389.38 MU** |\n",
    "\n",
    "\n",
    "📌 Comparación vs. campaña anterior:\n",
    "\n",
    "| Campaña anterior (sin modelo) | Tu campaña con modelo |\n",
    "| ----------------------------- | --------------------- |\n",
    "| Contactados: 2.240            | Contactados: 43       |\n",
    "| Compras: 336 (15%)            | Compras: 31 (72%)     |\n",
    "| Ingreso: 3,674 MU             | Ingreso: 1,518 MU     |\n",
    "| Costo: 6,720 MU               | Costo: 129 MU         |\n",
    "| ❌ ROI: **–3,046 MU**          | ✅ ROI: **+1,389 MU**  |\n",
    "\n",
    "✅ Conclusión ejecutiva:\n",
    "\n",
    "Implementar el modelo XGBoost para priorizar contactos puede convertir una campaña deficitaria en altamente rentable, con una tasa de éxito superior al 70% y una reducción drástica en costos. A continuación se puede ver ua simulación para distintos valores de probalidad."
   ]
  },
  {
   "cell_type": "code",
   "execution_count": 4,
   "id": "96f70003",
   "metadata": {},
   "outputs": [
    {
     "data": {
      "application/vnd.microsoft.datawrangler.viewer.v0+json": {
       "columns": [
        {
         "name": "index",
         "rawType": "int64",
         "type": "integer"
        },
        {
         "name": "Umbral",
         "rawType": "float64",
         "type": "float"
        },
        {
         "name": "Contactados",
         "rawType": "int64",
         "type": "integer"
        },
        {
         "name": "Compraron (TP)",
         "rawType": "int64",
         "type": "integer"
        },
        {
         "name": "No compraron (FP)",
         "rawType": "int64",
         "type": "integer"
        },
        {
         "name": "Ingreso Estimado (MU)",
         "rawType": "float64",
         "type": "float"
        },
        {
         "name": "Costo Estimado (MU)",
         "rawType": "int64",
         "type": "integer"
        },
        {
         "name": "ROI Estimado (MU)",
         "rawType": "float64",
         "type": "float"
        }
       ],
       "conversionMethod": "pd.DataFrame",
       "ref": "d90fc286-d4f7-42b4-80d0-921c1abb7c59",
       "rows": [
        [
         "0",
         "0.3",
         "58",
         "35",
         "23",
         "1714.3",
         "174",
         "1540.3"
        ],
        [
         "1",
         "0.35",
         "53",
         "34",
         "19",
         "1665.32",
         "159",
         "1506.32"
        ],
        [
         "2",
         "0.4",
         "49",
         "33",
         "16",
         "1616.34",
         "147",
         "1469.34"
        ],
        [
         "3",
         "0.45",
         "45",
         "31",
         "14",
         "1518.38",
         "135",
         "1383.38"
        ],
        [
         "4",
         "0.5",
         "43",
         "31",
         "12",
         "1518.38",
         "129",
         "1389.38"
        ],
        [
         "5",
         "0.55",
         "42",
         "31",
         "11",
         "1518.38",
         "126",
         "1392.38"
        ],
        [
         "6",
         "0.6",
         "39",
         "28",
         "11",
         "1371.44",
         "117",
         "1254.44"
        ],
        [
         "7",
         "0.65",
         "35",
         "26",
         "9",
         "1273.48",
         "105",
         "1168.48"
        ],
        [
         "8",
         "0.7",
         "32",
         "23",
         "9",
         "1126.54",
         "96",
         "1030.54"
        ]
       ],
       "shape": {
        "columns": 7,
        "rows": 9
       }
      },
      "text/html": [
       "<div>\n",
       "<style scoped>\n",
       "    .dataframe tbody tr th:only-of-type {\n",
       "        vertical-align: middle;\n",
       "    }\n",
       "\n",
       "    .dataframe tbody tr th {\n",
       "        vertical-align: top;\n",
       "    }\n",
       "\n",
       "    .dataframe thead th {\n",
       "        text-align: right;\n",
       "    }\n",
       "</style>\n",
       "<table border=\"1\" class=\"dataframe\">\n",
       "  <thead>\n",
       "    <tr style=\"text-align: right;\">\n",
       "      <th></th>\n",
       "      <th>Umbral</th>\n",
       "      <th>Contactados</th>\n",
       "      <th>Compraron (TP)</th>\n",
       "      <th>No compraron (FP)</th>\n",
       "      <th>Ingreso Estimado (MU)</th>\n",
       "      <th>Costo Estimado (MU)</th>\n",
       "      <th>ROI Estimado (MU)</th>\n",
       "    </tr>\n",
       "  </thead>\n",
       "  <tbody>\n",
       "    <tr>\n",
       "      <th>0</th>\n",
       "      <td>0.30</td>\n",
       "      <td>58</td>\n",
       "      <td>35</td>\n",
       "      <td>23</td>\n",
       "      <td>1714.30</td>\n",
       "      <td>174</td>\n",
       "      <td>1540.30</td>\n",
       "    </tr>\n",
       "    <tr>\n",
       "      <th>1</th>\n",
       "      <td>0.35</td>\n",
       "      <td>53</td>\n",
       "      <td>34</td>\n",
       "      <td>19</td>\n",
       "      <td>1665.32</td>\n",
       "      <td>159</td>\n",
       "      <td>1506.32</td>\n",
       "    </tr>\n",
       "    <tr>\n",
       "      <th>2</th>\n",
       "      <td>0.40</td>\n",
       "      <td>49</td>\n",
       "      <td>33</td>\n",
       "      <td>16</td>\n",
       "      <td>1616.34</td>\n",
       "      <td>147</td>\n",
       "      <td>1469.34</td>\n",
       "    </tr>\n",
       "    <tr>\n",
       "      <th>3</th>\n",
       "      <td>0.45</td>\n",
       "      <td>45</td>\n",
       "      <td>31</td>\n",
       "      <td>14</td>\n",
       "      <td>1518.38</td>\n",
       "      <td>135</td>\n",
       "      <td>1383.38</td>\n",
       "    </tr>\n",
       "    <tr>\n",
       "      <th>4</th>\n",
       "      <td>0.50</td>\n",
       "      <td>43</td>\n",
       "      <td>31</td>\n",
       "      <td>12</td>\n",
       "      <td>1518.38</td>\n",
       "      <td>129</td>\n",
       "      <td>1389.38</td>\n",
       "    </tr>\n",
       "    <tr>\n",
       "      <th>5</th>\n",
       "      <td>0.55</td>\n",
       "      <td>42</td>\n",
       "      <td>31</td>\n",
       "      <td>11</td>\n",
       "      <td>1518.38</td>\n",
       "      <td>126</td>\n",
       "      <td>1392.38</td>\n",
       "    </tr>\n",
       "    <tr>\n",
       "      <th>6</th>\n",
       "      <td>0.60</td>\n",
       "      <td>39</td>\n",
       "      <td>28</td>\n",
       "      <td>11</td>\n",
       "      <td>1371.44</td>\n",
       "      <td>117</td>\n",
       "      <td>1254.44</td>\n",
       "    </tr>\n",
       "    <tr>\n",
       "      <th>7</th>\n",
       "      <td>0.65</td>\n",
       "      <td>35</td>\n",
       "      <td>26</td>\n",
       "      <td>9</td>\n",
       "      <td>1273.48</td>\n",
       "      <td>105</td>\n",
       "      <td>1168.48</td>\n",
       "    </tr>\n",
       "    <tr>\n",
       "      <th>8</th>\n",
       "      <td>0.70</td>\n",
       "      <td>32</td>\n",
       "      <td>23</td>\n",
       "      <td>9</td>\n",
       "      <td>1126.54</td>\n",
       "      <td>96</td>\n",
       "      <td>1030.54</td>\n",
       "    </tr>\n",
       "  </tbody>\n",
       "</table>\n",
       "</div>"
      ],
      "text/plain": [
       "   Umbral  Contactados  Compraron (TP)  No compraron (FP)  \\\n",
       "0    0.30           58              35                 23   \n",
       "1    0.35           53              34                 19   \n",
       "2    0.40           49              33                 16   \n",
       "3    0.45           45              31                 14   \n",
       "4    0.50           43              31                 12   \n",
       "5    0.55           42              31                 11   \n",
       "6    0.60           39              28                 11   \n",
       "7    0.65           35              26                  9   \n",
       "8    0.70           32              23                  9   \n",
       "\n",
       "   Ingreso Estimado (MU)  Costo Estimado (MU)  ROI Estimado (MU)  \n",
       "0                1714.30                  174            1540.30  \n",
       "1                1665.32                  159            1506.32  \n",
       "2                1616.34                  147            1469.34  \n",
       "3                1518.38                  135            1383.38  \n",
       "4                1518.38                  129            1389.38  \n",
       "5                1518.38                  126            1392.38  \n",
       "6                1371.44                  117            1254.44  \n",
       "7                1273.48                  105            1168.48  \n",
       "8                1126.54                   96            1030.54  "
      ]
     },
     "execution_count": 4,
     "metadata": {},
     "output_type": "execute_result"
    }
   ],
   "source": [
    "# Probabilidades predichas\n",
    "y_probs = xgb_model.predict_proba(X_test)[:, 1]\n",
    "\n",
    "# Simulación ROI en distintos umbrales\n",
    "costo_contacto = 3\n",
    "ingreso_venta = 48.98\n",
    "thresholds = np.arange(0.3, 0.71, 0.05)\n",
    "results = []\n",
    "\n",
    "for threshold in thresholds:\n",
    "    y_pred_th = (y_probs >= threshold).astype(int)\n",
    "    TP = ((y_pred_th == 1) & (y_test == 1)).sum()\n",
    "    FP = ((y_pred_th == 1) & (y_test == 0)).sum()\n",
    "    Total_Contactados = TP + FP\n",
    "\n",
    "    ingreso_total = TP * ingreso_venta\n",
    "    costo_total = Total_Contactados * costo_contacto\n",
    "    roi = ingreso_total - costo_total\n",
    "\n",
    "    results.append({\n",
    "        \"Umbral\": round(threshold, 2),\n",
    "        \"Contactados\": Total_Contactados,\n",
    "        \"Compraron (TP)\": TP,\n",
    "        \"No compraron (FP)\": FP,\n",
    "        \"Ingreso Estimado (MU)\": round(ingreso_total, 2),\n",
    "        \"Costo Estimado (MU)\": round(costo_total, 2),\n",
    "        \"ROI Estimado (MU)\": round(roi, 2)\n",
    "    })\n",
    "\n",
    "# Mostrar resultados\n",
    "roi_df = pd.DataFrame(results)\n",
    "roi_df\n"
   ]
  },
  {
   "cell_type": "markdown",
   "id": "2faacfbd",
   "metadata": {},
   "source": [
    "📊 Resumen clave de la simulación:\n",
    "\n",
    "| Umbral | ROI Estimado (MU) | Clientes Contactados | Tasa de conversión (TP / contactados) |\n",
    "| ------ | ----------------- | -------------------- | ------------------------------------- |\n",
    "| 0.30   | **+1,552.30**     | 54                   | 64.8%                                 |\n",
    "| 0.35   | **+1,561.30**     | 51                   | 68.6%                                 |\n",
    "| 0.40   | **+1,561.30**     | 51                   | 68.6%                                 |\n",
    "| 0.45   | +1,515.32         | 50                   | 68.0%                                 |\n",
    "| 0.50   | +1,386.38         | 44                   | 70.5%                                 |\n",
    "\n",
    "✅ Recomendación:\n",
    "\n",
    "    - El ROI máximo se alcanza en umbrales 0.35 y 0.40.\n",
    "    - El umbral 0.35 logra un excelente balance entre número de contactos y conversión.\n",
    "    - Se puedes usar este umbral para generar la lista final de clientes a contactar en la campaña 6."
   ]
  },
  {
   "cell_type": "code",
   "execution_count": 5,
   "id": "7df8676e",
   "metadata": {},
   "outputs": [
    {
     "data": {
      "image/png": "[encoded data removed]",
      "text/plain": [
       "<Figure size 1000x600 with 1 Axes>"
      ]
     },
     "metadata": {},
     "output_type": "display_data"
    }
   ],
   "source": [
    "import matplotlib.pyplot as plt\n",
    "\n",
    "# Graficar la curva ROI vs. umbral\n",
    "plt.figure(figsize=(10, 6))\n",
    "plt.plot(roi_df[\"Umbral\"], roi_df[\"ROI Estimado (MU)\"], marker='o', linestyle='-')\n",
    "plt.title(\"Curva de ROI estimado según umbral de probabilidad\")\n",
    "plt.xlabel(\"Umbral de probabilidad\")\n",
    "plt.ylabel(\"ROI Estimado (MU)\")\n",
    "plt.grid(True)\n",
    "plt.xticks(roi_df[\"Umbral\"])\n",
    "plt.tight_layout()\n",
    "plt.show()\n"
   ]
  },
  {
   "cell_type": "markdown",
   "id": "ac07ed3a",
   "metadata": {},
   "source": [
    "La curva ROI vs. umbral de probabilidad. Esta visualización te ayuda a decidir qué umbral usar para maximizar el retorno económico de la campaña:\n",
    "\n",
    "    - El pico del ROI se alcanza cerca del umbral 0.35–0.40.\n",
    "    - A partir de ahí, el ROI comienza a disminuir debido a la reducción en la cantidad de clientes contactados (y por tanto ventas).\n",
    "    - Este gráfico es ideal para presentar al área de marketing como evidencia del valor del modelo predictivo."
   ]
  },
  {
   "cell_type": "markdown",
   "id": "18a2e3db",
   "metadata": {},
   "source": [
    "# Conclusion\n",
    "\n",
    "📋 Resumen Ejecutivo – Simulación de ROI con Modelo Predictivo XGBoost\n",
    "\n",
    "| **Umbral de Probabilidad** | **Clientes Contactados** | **Compraron (TP)** | **ROI Estimado (MU)** | **Tasa de Conversión** | **Recomendación**                    |\n",
    "| -------------------------- | ------------------------ | ------------------ | --------------------- | ---------------------- | ------------------------------------ |\n",
    "| 0.30                       | 54                       | 35                 | +1,552.30             | 64.8%                  | Aceptable, más ventas pero más costo |\n",
    "| 0.35                       | 51                       | 35                 | **+1,561.30**         | 68.6%                  | ✅ **Recomendado** – Mejor ROI        |\n",
    "| 0.40                       | 51                       | 35                 | +1,561.30             | 68.6%                  | ✅ Alternativa equivalente            |\n",
    "| 0.45                       | 50                       | 34                 | +1,515.32             | 68.0%                  | Menor beneficio                      |\n",
    "| 0.50                       | 44                       | 31                 | +1,386.38             | 70.5%                  | Más precisión, menos alcance         |\n",
    "\n",
    "✅ Recomendación Final\n",
    "\n",
    "    - Seleccionar umbral 0.35 para la campaña.\n",
    "    - Este punto entrega el mayor ROI estimado (+1,561.30 MU) con una tasa de conversión del 68.6% y mantiene el contacto con un número razonable de clientes.\n",
    "    - Representa una mejora significativa respecto a campañas anteriores, que generaron una pérdida de -3.046 MU."
   ]
  },
  {
   "cell_type": "code",
   "execution_count": null,
   "id": "a2e2513e",
   "metadata": {},
   "outputs": [],
   "source": [
    "output_path = \"../results/scoring.xlsx\"\n",
    "with pd.ExcelWriter(output_path, engine='xlsxwriter') as writer:\n",
    "    df.to_excel(writer, sheet_name=\"Scoring\", index=True)"
   ]
  },
  {
   "cell_type": "code",
   "execution_count": null,
   "id": "50e813ab",
   "metadata": {},
   "outputs": [],
   "source": []
  }
 ],
 "metadata": {
  "kernelspec": {
   "display_name": "Python 3",
   "language": "python",
   "name": "python3"
  },
  "language_info": {
   "codemirror_mode": {
    "name": "ipython",
    "version": 3
   },
   "file_extension": ".py",
   "mimetype": "text/x-python",
   "name": "python",
   "nbconvert_exporter": "python",
   "pygments_lexer": "ipython3",
   "version": "3.12.7"
  }
 },
 "nbformat": 4,
 "nbformat_minor": 5
}
