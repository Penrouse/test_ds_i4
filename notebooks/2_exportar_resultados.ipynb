{
 "cells": [
  {
   "cell_type": "markdown",
   "id": "f01f9116",
   "metadata": {},
   "source": [
    "# Exportar resultados resumen"
   ]
  },
  {
   "cell_type": "code",
   "execution_count": null,
   "id": "a4b713d9",
   "metadata": {},
   "outputs": [
    {
     "data": {
      "text/plain": [
       "'../results/powerbi_caso_ds.xlsx'"
      ]
     },
     "execution_count": 2,
     "metadata": {},
     "output_type": "execute_result"
    }
   ],
   "source": [
    "# Reimportar paquetes tras reinicio\n",
    "import pandas as pd\n",
    "\n",
    "# Reconstrucción de los DataFrames para exportar a Power BI\n",
    "\n",
    "# Tabla 1: Segmentación de clientes\n",
    "segmentacion = pd.DataFrame({\n",
    "    \"Cluster\": [0, 1, 2, 3],\n",
    "    \"Descripción\": [\n",
    "        \"Familias jóvenes, bajo ingreso\",\n",
    "        \"Clientes digitales premium\",\n",
    "        \"Ultra exclusivos por catálogo\",\n",
    "        \"Adultos mayores multicanal\"\n",
    "    ],\n",
    "    \"Edad promedio\": [52, 58, 52, 59],\n",
    "    \"Ingreso promedio\": [28186, 75544, 221604, 51681],\n",
    "    \"Tasa de compra (%)\": [11.63, 23.50, 0.0, 10.30],\n",
    "    \"Recomendación\": [\n",
    "        \"Baja prioridad\",\n",
    "        \"🎯 Objetivo principal\",\n",
    "        \"Excluir por baja muestra\",\n",
    "        \"Target secundario\"\n",
    "    ]\n",
    "})\n",
    "\n",
    "# Tabla 2: Simulación ROI\n",
    "roi_simulacion = pd.DataFrame({\n",
    "    \"Umbral\": [0.30, 0.35, 0.40, 0.45, 0.50],\n",
    "    \"Contactados\": [54, 51, 51, 50, 44],\n",
    "    \"Compraron (TP)\": [35, 35, 35, 34, 31],\n",
    "    \"No compraron (FP)\": [19, 16, 16, 16, 13],\n",
    "    \"Ingreso Estimado (MU)\": [1714.30, 1714.30, 1714.30, 1665.32, 1518.38],\n",
    "    \"Costo Estimado (MU)\": [162, 153, 153, 150, 132],\n",
    "    \"ROI Estimado (MU)\": [1552.30, 1561.30, 1561.30, 1515.32, 1386.38],\n",
    "    \"Recomendación\": [\n",
    "        \"Aceptable, mayor alcance\",\n",
    "        \"✅ Recomendado – mejor ROI\",\n",
    "        \"Alternativa equivalente\",\n",
    "        \"Menor beneficio\",\n",
    "        \"Mayor precisión, menos alcance\"\n",
    "    ]\n",
    "})\n",
    "\n",
    "# Guardar en Excel para Power\n",
    "output_path = \"../results/powerbi_caso_ds.xlsx\"\n",
    "with pd.ExcelWriter(output_path, engine='xlsxwriter') as writer:\n",
    "    segmentacion.to_excel(writer, sheet_name=\"Segmentacion\", index=False)\n",
    "    roi_simulacion.to_excel(writer, sheet_name=\"Modelo_y_ROI\", index=False)\n",
    "\n",
    "output_path\n"
   ]
  },
  {
   "cell_type": "code",
   "execution_count": 5,
   "id": "aaaa441f",
   "metadata": {},
   "outputs": [
    {
     "name": "stdout",
     "output_type": "stream",
     "text": [
      "<class 'pandas.core.frame.DataFrame'>\n",
      "RangeIndex: 2240 entries, 0 to 2239\n",
      "Data columns (total 31 columns):\n",
      " #   Column               Non-Null Count  Dtype         \n",
      "---  ------               --------------  -----         \n",
      " 0   ID                   2240 non-null   int64         \n",
      " 1   Year_Birth           2240 non-null   int64         \n",
      " 2   Education            2240 non-null   object        \n",
      " 3   Marital_Status       2240 non-null   object        \n",
      " 4   Income               2240 non-null   float64       \n",
      " 5   Kidhome              2240 non-null   int64         \n",
      " 6   Teenhome             2240 non-null   int64         \n",
      " 7   Dt_Customer          2240 non-null   datetime64[ns]\n",
      " 8   Recency              2240 non-null   int64         \n",
      " 9   MntWines             2240 non-null   int64         \n",
      " 10  MntFruits            2240 non-null   int64         \n",
      " 11  MntMeatProducts      2240 non-null   int64         \n",
      " 12  MntFishProducts      2240 non-null   int64         \n",
      " 13  MntSweetProducts     2240 non-null   int64         \n",
      " 14  MntGoldProds         2240 non-null   int64         \n",
      " 15  NumDealsPurchases    2240 non-null   int64         \n",
      " 16  NumWebPurchases      2240 non-null   int64         \n",
      " 17  NumCatalogPurchases  2240 non-null   int64         \n",
      " 18  NumStorePurchases    2240 non-null   int64         \n",
      " 19  NumWebVisitsMonth    2240 non-null   int64         \n",
      " 20  AcceptedCmp3         2240 non-null   int64         \n",
      " 21  AcceptedCmp4         2240 non-null   int64         \n",
      " 22  AcceptedCmp5         2240 non-null   int64         \n",
      " 23  AcceptedCmp1         2240 non-null   int64         \n",
      " 24  AcceptedCmp2         2240 non-null   int64         \n",
      " 25  Complain             2240 non-null   int64         \n",
      " 26  Response             2240 non-null   int64         \n",
      " 27  Age                  2240 non-null   int64         \n",
      " 28  Customer_Tenure      2240 non-null   int64         \n",
      " 29  TotalSpent           2240 non-null   int64         \n",
      " 30  Cluster              2240 non-null   int64         \n",
      "dtypes: datetime64[ns](1), float64(1), int64(27), object(2)\n",
      "memory usage: 542.6+ KB\n"
     ]
    }
   ],
   "source": [
    "clustering = pd.read_excel(\"../results/clustering.xlsx\")\n",
    "clustering.info()"
   ]
  },
  {
   "cell_type": "code",
   "execution_count": 10,
   "id": "68c6b479",
   "metadata": {},
   "outputs": [
    {
     "name": "stdout",
     "output_type": "stream",
     "text": [
      "<class 'pandas.core.frame.DataFrame'>\n",
      "RangeIndex: 2240 entries, 0 to 2239\n",
      "Data columns (total 2 columns):\n",
      " #   Column  Non-Null Count  Dtype  \n",
      "---  ------  --------------  -----  \n",
      " 0   ID      2240 non-null   int64  \n",
      " 1   Score   2240 non-null   float64\n",
      "dtypes: float64(1), int64(1)\n",
      "memory usage: 35.1 KB\n"
     ]
    }
   ],
   "source": [
    "scoring = pd.read_excel(\"../results/scoring.xlsx\")\n",
    "scoring = scoring[['ID','Score']]\n",
    "scoring.info()"
   ]
  },
  {
   "cell_type": "code",
   "execution_count": 12,
   "id": "b9e6e50f",
   "metadata": {},
   "outputs": [
    {
     "name": "stdout",
     "output_type": "stream",
     "text": [
      "<class 'pandas.core.frame.DataFrame'>\n",
      "RangeIndex: 2240 entries, 0 to 2239\n",
      "Data columns (total 32 columns):\n",
      " #   Column               Non-Null Count  Dtype         \n",
      "---  ------               --------------  -----         \n",
      " 0   ID                   2240 non-null   int64         \n",
      " 1   Year_Birth           2240 non-null   int64         \n",
      " 2   Education            2240 non-null   object        \n",
      " 3   Marital_Status       2240 non-null   object        \n",
      " 4   Income               2240 non-null   float64       \n",
      " 5   Kidhome              2240 non-null   int64         \n",
      " 6   Teenhome             2240 non-null   int64         \n",
      " 7   Dt_Customer          2240 non-null   datetime64[ns]\n",
      " 8   Recency              2240 non-null   int64         \n",
      " 9   MntWines             2240 non-null   int64         \n",
      " 10  MntFruits            2240 non-null   int64         \n",
      " 11  MntMeatProducts      2240 non-null   int64         \n",
      " 12  MntFishProducts      2240 non-null   int64         \n",
      " 13  MntSweetProducts     2240 non-null   int64         \n",
      " 14  MntGoldProds         2240 non-null   int64         \n",
      " 15  NumDealsPurchases    2240 non-null   int64         \n",
      " 16  NumWebPurchases      2240 non-null   int64         \n",
      " 17  NumCatalogPurchases  2240 non-null   int64         \n",
      " 18  NumStorePurchases    2240 non-null   int64         \n",
      " 19  NumWebVisitsMonth    2240 non-null   int64         \n",
      " 20  AcceptedCmp3         2240 non-null   int64         \n",
      " 21  AcceptedCmp4         2240 non-null   int64         \n",
      " 22  AcceptedCmp5         2240 non-null   int64         \n",
      " 23  AcceptedCmp1         2240 non-null   int64         \n",
      " 24  AcceptedCmp2         2240 non-null   int64         \n",
      " 25  Complain             2240 non-null   int64         \n",
      " 26  Response             2240 non-null   int64         \n",
      " 27  Age                  2240 non-null   int64         \n",
      " 28  Customer_Tenure      2240 non-null   int64         \n",
      " 29  TotalSpent           2240 non-null   int64         \n",
      " 30  Cluster              2240 non-null   int64         \n",
      " 31  Score                2240 non-null   float64       \n",
      "dtypes: datetime64[ns](1), float64(2), int64(27), object(2)\n",
      "memory usage: 560.1+ KB\n"
     ]
    }
   ],
   "source": [
    "df_clustering_scoring = clustering.merge(scoring, how='left', on='ID')\n",
    "df_clustering_scoring.info()"
   ]
  },
  {
   "cell_type": "code",
   "execution_count": 13,
   "id": "d1c2cd3e",
   "metadata": {},
   "outputs": [],
   "source": [
    "df_clustering_scoring.to_csv('../results/df_clustering_score.csv')"
   ]
  },
  {
   "cell_type": "code",
   "execution_count": null,
   "id": "b0b09983",
   "metadata": {},
   "outputs": [],
   "source": []
  }
 ],
 "metadata": {
  "kernelspec": {
   "display_name": "Python 3",
   "language": "python",
   "name": "python3"
  },
  "language_info": {
   "codemirror_mode": {
    "name": "ipython",
    "version": 3
   },
   "file_extension": ".py",
   "mimetype": "text/x-python",
   "name": "python",
   "nbconvert_exporter": "python",
   "pygments_lexer": "ipython3",
   "version": "3.12.7"
  }
 },
 "nbformat": 4,
 "nbformat_minor": 5
}
